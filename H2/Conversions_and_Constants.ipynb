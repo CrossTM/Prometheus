{
 "cells": [
  {
   "cell_type": "code",
   "execution_count": 16,
   "metadata": {},
   "outputs": [],
   "source": [
    "from scipy.constants import h, c, hbar, u, k "
   ]
  },
  {
   "cell_type": "markdown",
   "metadata": {},
   "source": [
    "All values taken from:\n",
    "https://physics.nist.gov/cuu/pdf/wall_2018.pdf\n",
    "https://physics.nist.gov/cuu/Constants/Table/allascii.txt"
   ]
  },
  {
   "cell_type": "code",
   "execution_count": 17,
   "metadata": {},
   "outputs": [],
   "source": [
    "#Kilogram [kg] <-> Electron mass [me] \n",
    "\n",
    "#[me] -> [kg]\n",
    "me_to_kg = 9.1093837015e-31\n",
    "me_to_kg_err = 0.0000000028e-31\n",
    "me_to_kg_pererr = (me_to_kg_err / me_to_kg) * 100\n",
    "\n",
    "#[kg] -> [me]\n",
    "kg_to_me = 1/me_to_kg\n",
    "kg_to_me_err = (me_to_kg_pererr/100) * kg_to_me"
   ]
  },
  {
   "cell_type": "code",
   "execution_count": 18,
   "metadata": {},
   "outputs": [],
   "source": [
    "#Angstroms [A] <-> Meters [m]\n",
    "\n",
    "#[A] -> [m]\n",
    "angstrom_to_m = 1e-10 \n",
    "\n",
    "#[m] -> [A]\n",
    "m_to_angstrom = 1/angstrom_to_m "
   ]
  },
  {
   "cell_type": "code",
   "execution_count": 19,
   "metadata": {
    "scrolled": true
   },
   "outputs": [],
   "source": [
    "#Meters [m] <-> Bohr [Bohr]\n",
    "\n",
    "#[Bohr] -> [m]\n",
    "bohr_to_m = 5.2917721090380e-11 \n",
    "bohr_to_m_err = 0.00000000080e-11\n",
    "bohr_to_m_pererr = (bohr_to_m_err / bohr_to_m) * 100\n",
    "\n",
    "#[m] -> [Bohr]\n",
    "m_to_bohr = 1/bohr_to_m \n",
    "m_to_bohr_err = (bohr_to_m_pererr/100) * m_to_bohr"
   ]
  },
  {
   "cell_type": "code",
   "execution_count": 20,
   "metadata": {},
   "outputs": [],
   "source": [
    "#Joules [J] <-> Hartrees [Hartree]\n",
    "\n",
    "#[Hartree] -> [J]\n",
    "hartree_to_j = 4.3597447222071e-18\n",
    "hartree_to_j_err = 0.0000000000085e-18\n",
    "hartree_to_j_pererr = (hartree_to_j_err / hartree_to_j) * 100\n",
    "\n",
    "#[J] -> [Hartree]\n",
    "j_to_hartree = 1/hartree_to_j\n",
    "j_to_hartree_err = (hartree_to_j_pererr/100) * j_to_hartree"
   ]
  },
  {
   "cell_type": "code",
   "execution_count": 24,
   "metadata": {},
   "outputs": [
    {
     "name": "stdout",
     "output_type": "stream",
     "text": [
      "219474.63136319697\n"
     ]
    }
   ],
   "source": [
    "#Hartree [Hartree] <-> Wavenumber [cm^-1]\n",
    "#https://physics.nist.gov/cgi-bin/cuu/Value?minvhr|search_for=all!\n",
    "\n",
    "#[cm^-1] -> [Hartree]\n",
    "wn_to_hartree = 4.5563352529120e-6\n",
    "wn_to_hartree_err = 0.0000000000088e-6\n",
    "wn_to_hartree_pererr = (wn_to_hartree_err / wn_to_hartree) * 100\n",
    "\n",
    "#[Hartree] -> [cm^-1]\n",
    "hartree_to_wn = 1/wn_to_hartree\n",
    "hartree_to_wn_err = (wn_to_hartree_pererr/100) * hartree_to_wn"
   ]
  },
  {
   "cell_type": "code",
   "execution_count": 22,
   "metadata": {},
   "outputs": [],
   "source": [
    "#Dalton [u] <-> Kilogram [kg]\n",
    "\n",
    "#[u] -> [kg]\n",
    "u_to_kg = 1.66053906660e-27 \n",
    "u_to_kg_err = 0.00000000050e-27\n",
    "u_to_kg_pererr = (u_to_kg_err / u_to_kg) * 100\n",
    "\n",
    "#[kg] -> [u]\n",
    "kg_to_u = 1/u_to_kg\n",
    "kg_to_u_err = (u_to_kg_pererr/100) * kg_to_u"
   ]
  },
  {
   "cell_type": "code",
   "execution_count": 26,
   "metadata": {},
   "outputs": [],
   "source": [
    "#Speed of light [cm][s]^-1\n",
    "#C is exact\n",
    "\n",
    "#[cm][s]^-1\n",
    "c_cm = c*100"
   ]
  },
  {
   "cell_type": "code",
   "execution_count": null,
   "metadata": {},
   "outputs": [],
   "source": []
  }
 ],
 "metadata": {
  "kernelspec": {
   "display_name": "Python 3",
   "language": "python",
   "name": "python3"
  },
  "language_info": {
   "codemirror_mode": {
    "name": "ipython",
    "version": 3
   },
   "file_extension": ".py",
   "mimetype": "text/x-python",
   "name": "python",
   "nbconvert_exporter": "python",
   "pygments_lexer": "ipython3",
   "version": "3.8.3"
  }
 },
 "nbformat": 4,
 "nbformat_minor": 4
}
