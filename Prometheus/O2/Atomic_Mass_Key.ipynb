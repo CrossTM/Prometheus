{
 "cells": [
  {
   "cell_type": "code",
   "execution_count": 1,
   "metadata": {},
   "outputs": [],
   "source": [
    "#data obtained from NIST\n",
    "#https://physics.nist.gov/cgi-bin/Compositions/stand_alone.pl?ele=&all=all\n",
    "\n",
    "element = {\"H\" or \"H-1\" : 1.00782503223, \"H_err\" or \"H-1_err\" : 0.00000000009, \n",
    "           \"H-2\" or \"D\": 2.01410177812, \"H-2_err\" or \"D_err\" : 0.00000000012,\n",
    "           \"H-3\" or \"T\": 3.0160492779, \"H-3_err\" or \"T_err\": 0.0000000024,\n",
    "           \"C\" or \"C-12\": 12.0, \"C_err\" or \"C-12_err\": 0.0,\n",
    "           \"C-13\": 13.00335483507, \"C-13_err\": 0.00000000023,\n",
    "           \"C-14\": 14.0032419884, \"C-14\": 0.0000000040,\n",
    "           \"N\" or \"N-14\": 14.00307400443, \"N_err\" or \"N-14_err\": 0.00000000020,\n",
    "           \"N-15\": 15.00010889888, \"N-15_err\": 0.00000000064,\n",
    "           \"O\" or \"O-16\": 15.99491461957, \"O_err\" or \"O-16_err\": 0.00000000017, \n",
    "           \"O-17\": 16.99913175650, \"O-17_err\": 0.00000000069,\n",
    "           \"O-18\": 17.99915961286, \"O-18_err\": 0.00000000040, \n",
    "           \"P\": 30.97376199842, \"P_err\": 0.00000000070,\n",
    "           \"S\" or \"S-32\": 31.9720711744, \"S_err\" or \"S-32_err\": 0.0000000014, \n",
    "           \"S-33\": 32.9714589098, \"S-33_err\": 0.0000000015,\n",
    "           \"S-34\": 33.967867004, \"S-34_err\": 0.000000047, \n",
    "           \"S-36\":35.96708071, \"S-36_err\": 0.00000020,\n",
    "           \"Cl\" or \"Cl-35\": 34.968852682, \"Cl_err\" or \"Cl-35_err\": 0.000000037,\n",
    "           \"Cl-37\": 36.965902602, \"Cl-37_err\": 0.000000055,\n",
    "           \"Br\" or \"Br-79\": 78.9183376, \"Br_err\" or \"Br-79_err\": 0.0000014, \n",
    "           \"Br-81\": 80.9162897, \"Br-81_err\": 0.0000014,\n",
    "           \"I\": 126.9044719, \"I_err\": 0.0000039}"
   ]
  },
  {
   "cell_type": "code",
   "execution_count": null,
   "metadata": {},
   "outputs": [],
   "source": []
  }
 ],
 "metadata": {
  "kernelspec": {
   "display_name": "Python 3",
   "language": "python",
   "name": "python3"
  },
  "language_info": {
   "codemirror_mode": {
    "name": "ipython",
    "version": 3
   },
   "file_extension": ".py",
   "mimetype": "text/x-python",
   "name": "python",
   "nbconvert_exporter": "python",
   "pygments_lexer": "ipython3",
   "version": "3.8.3"
  }
 },
 "nbformat": 4,
 "nbformat_minor": 4
}
