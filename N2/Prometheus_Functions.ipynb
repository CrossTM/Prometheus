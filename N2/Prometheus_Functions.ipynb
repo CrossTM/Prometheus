{
 "cells": [
  {
   "cell_type": "code",
   "execution_count": 5,
   "metadata": {},
   "outputs": [],
   "source": [
    "import numpy as np\n",
    "import math as m\n",
    "from scipy.constants import h, c, hbar, u, k\n",
    "from scipy.optimize import curve_fit\n",
    "from scipy.interpolate import CubicSpline\n",
    "from ipynb.fs.full.Conversions_and_Constants import *"
   ]
  },
  {
   "cell_type": "markdown",
   "metadata": {},
   "source": [
    "## [1]  $\\mu$ (Mu)"
   ]
  },
  {
   "cell_type": "code",
   "execution_count": 6,
   "metadata": {},
   "outputs": [],
   "source": [
    "#INPUT: AU\n",
    "\n",
    "def mu(m_A, m_A_err, m_B, m_B_err):\n",
    "    \n",
    "    #SI\n",
    "    mu_SI = ((m_A * m_B) / (m_A + m_B)) * u_to_kg\n",
    "    #Error\n",
    "    A = ((m_A_err * u_to_kg * m_B**2) / (m_A + m_B)**2)\n",
    "    B = ((m_B_err * u_to_kg * m_A**2) / (m_A + m_B)**2)\n",
    "    C = ((u_to_kg_err * m_A * m_B)  / (m_A + m_B))\n",
    "    mu_SI_err = A + B + C\n",
    "    #Other errors\n",
    "    mu_SI_relerr = (mu_SI_err / mu_SI)\n",
    "    mu_SI_pererr = mu_SI_relerr * 100\n",
    "    \n",
    "    #AU\n",
    "    mu_au = mu_SI * kg_to_me\n",
    "    mu_au_err = (kg_to_me * mu_SI_err) + (mu_SI * kg_to_me_err)\n",
    "    #Other errors\n",
    "    mu_au_relerr = mu_au_err/mu_au\n",
    "    mu_au_pererr = mu_au_relerr * 100\n",
    "    \n",
    "    return mu_SI, mu_SI_err, mu_SI_relerr, mu_SI_pererr, mu_au, mu_au_err, mu_au_relerr, mu_au_pererr\n",
    "\n",
    "#OUTPUT: SI - kg, AU - me"
   ]
  },
  {
   "cell_type": "markdown",
   "metadata": {},
   "source": [
    "## [2] $\\chi^2$, (Chi Squared)"
   ]
  },
  {
   "cell_type": "code",
   "execution_count": 1,
   "metadata": {},
   "outputs": [],
   "source": [
    "def chisquare(observed_values,expected_values):\n",
    "    test_statistic=0\n",
    "    for observed, expected in zip(observed_values, expected_values):\n",
    "        test_statistic+= abs((float(observed)-float(expected))**2/float(expected))\n",
    "    return test_statistic"
   ]
  },
  {
   "cell_type": "markdown",
   "metadata": {},
   "source": [
    "## [3]  Eta(II), $\\eta_{II}$"
   ]
  },
  {
   "cell_type": "code",
   "execution_count": 3,
   "metadata": {},
   "outputs": [],
   "source": [
    "#INPUT: AU\n",
    "\n",
    "def eta_ii(zeta_ii, zeta_ii_err, mu_au, mu_au_err):\n",
    "    \n",
    "    eta_ii = zeta_ii/(mu_au)\n",
    "    \n",
    "    eta_ii_err = abs(zeta_ii_err/(mu_au) - ((zeta_ii * mu_au_err)/(mu_au**2)))\n",
    "    eta_ii_relerr = eta_ii_err/eta_ii\n",
    "    eta_ii_pererr = (eta_ii_relerr * 100)\n",
    "    \n",
    "    return eta_ii, eta_ii_err, eta_ii_pererr\n",
    "\n",
    "#OUTPUT: AU"
   ]
  },
  {
   "cell_type": "markdown",
   "metadata": {},
   "source": [
    "## [4] Eta(III), $\\eta_{III}$"
   ]
  },
  {
   "cell_type": "code",
   "execution_count": null,
   "metadata": {},
   "outputs": [],
   "source": [
    "#INPUT: AU\n",
    "\n",
    "def eta_iii(zeta_iii, zeta_iii_err, mu_au, mu_au_err):\n",
    "    \n",
    "    eta_iii = zeta_iii/(mu_au**1.5)\n",
    "    \n",
    "    eta_iii_err = abs(zeta_iii_err/(mu_au**1.5) - ((3 * zeta_iii * mu_au_err)/(2 * mu_au**2.5)))\n",
    "    eta_iii_relerr = eta_iii_err/eta_iii\n",
    "    eta_iii_pererr = (eta_iii_relerr * 100)\n",
    "    \n",
    "    return eta_iii, eta_iii_err, eta_iii_pererr\n",
    "\n",
    "#OUTPUT: AU"
   ]
  },
  {
   "cell_type": "markdown",
   "metadata": {},
   "source": [
    "## [5] Eta(IIII), $\\eta_{IIII}$"
   ]
  },
  {
   "cell_type": "code",
   "execution_count": 2,
   "metadata": {},
   "outputs": [],
   "source": [
    "#INPUT: AU\n",
    "\n",
    "def eta_iiii(zeta_iiii, zeta_iiii_err, mu_au, mu_au_err):\n",
    "    \n",
    "    eta_iiii = zeta_iiii/(mu_au**2)\n",
    "    \n",
    "    eta_iiii_err = abs(zeta_iiii_err/(mu_au**2) - ((2 * zeta_iiii * mu_au_err)/((mu_au**2))))\n",
    "    eta_iiii_relerr = eta_iiii_err/eta_iiii\n",
    "    eta_iiii_pererr = (eta_iiii_relerr * 100)\n",
    "    \n",
    "    return eta_iiii, eta_iiii_err, eta_iiii_pererr\n",
    "\n",
    "#OUTPUT: AU"
   ]
  },
  {
   "cell_type": "markdown",
   "metadata": {},
   "source": [
    "## [6] Omega, $\\omega$ "
   ]
  },
  {
   "cell_type": "code",
   "execution_count": 4,
   "metadata": {},
   "outputs": [],
   "source": [
    "#INPUT: AU\n",
    "\n",
    "def omega(eta_ii, eta_ii_err):\n",
    "    \n",
    "    #AU\n",
    "    omega_au = np.sqrt(eta_ii)\n",
    "    #Error\n",
    "    omega_au_err = 1/(2*omega_au**0.5) * eta_ii_err\n",
    "    omega_au_relerr = omega_au_err/omega_au\n",
    "    omega_au_pererr = omega_au_relerr*100\n",
    "    \n",
    "    #SI\n",
    "    omega_wn = omega_au * hartree_to_wn\n",
    "    #Error\n",
    "    omega_wn_err = (hartree_to_wn * omega_au_err) + (omega_au * hartree_to_wn_err)\n",
    "    omega_wn_relerr = omega_wn_err/omega_wn\n",
    "    omega_wn_pererr = omega_wn_relerr*100\n",
    "    \n",
    "    return omega_au, omega_au_err, omega_au_pererr, omega_wn, omega_wn_err, omega_wn_pererr\n",
    "\n",
    "#OUTPUT: AU & SI"
   ]
  },
  {
   "cell_type": "markdown",
   "metadata": {},
   "source": [
    "## [7] Sigma, $\\sigma$"
   ]
  },
  {
   "cell_type": "code",
   "execution_count": null,
   "metadata": {},
   "outputs": [],
   "source": [
    "#INPUT: AU\n",
    "\n",
    "def sigma(eta_iii, eta_iii_err, omega_au, omega_au_err):\n",
    "    \n",
    "    sigma = -(5/12) * (eta_iii/omega_au**3)\n",
    "    \n",
    "    #Error\n",
    "    sigma_err = abs(((-5*eta_iii_err)/(12*omega_au**3)) + ((15*eta_iii*omega_au_err)/(12*omega_au**4)))\n",
    "    sigma_relerr = sigma_err/sigma\n",
    "    sigma_pererr = sigma_relerr*100\n",
    "    \n",
    "    return sigma, sigma_err, sigma_pererr\n",
    "    \n",
    "#OUTPUT: AU"
   ]
  },
  {
   "cell_type": "markdown",
   "metadata": {},
   "source": [
    "## [8]  $\\Delta E^{(TOSH)}$ "
   ]
  },
  {
   "cell_type": "code",
   "execution_count": 6,
   "metadata": {},
   "outputs": [],
   "source": [
    "#INPUT: AU\n",
    "\n",
    "def E_TOSH(omega_au, omega_au_err, eta_iii, eta_iii_err, eta_iiii, eta_iiii_err, sigma, sigma_err):\n",
    "\n",
    "    #AU\n",
    "    E_TOSH_au = omega_au + (eta_iiii/(8*omega_au**2)) + ((eta_iii * sigma)/(2*omega_au)) + ((eta_iiii*sigma**2)/(4*omega_au))\n",
    "    #Error\n",
    "    A = omega_au_err * (1 - (eta_iiii / (8 * omega_au**3)) - ((eta_iii * sigma)/(2 * omega_au**2)))\n",
    "    B = eta_iiii_err * ((1 / (8 * omega_au**2)))\n",
    "    C = eta_iii_err * (sigma / (2 * omega_au))\n",
    "    D = sigma_err * ((eta_iii / (2 * omega_au)))\n",
    "    E_TOSH_au_err = abs(A + B + C + D)\n",
    "    E_TOSH_au_relerr = E_TOSH_au_err/E_TOSH_au\n",
    "    E_TOSH_au_pererr = E_TOSH_au_relerr * 100\n",
    "    \n",
    "    #SI\n",
    "    E_TOSH_wn = E_TOSH_au * hartree_to_wn\n",
    "    #Error\n",
    "    E_TOSH_wn_err = (E_TOSH_au * hartree_to_wn_err) + (hartree_to_wn * E_TOSH_au_err)\n",
    "    E_TOSH_wn_relerr = E_TOSH_wn_err/E_TOSH_wn\n",
    "    E_TOSH_wn_pererr = abs(E_TOSH_wn_relerr *100)\n",
    "    \n",
    "    return E_TOSH_au, E_TOSH_au_err, E_TOSH_au_pererr, E_TOSH_wn, E_TOSH_wn_err, E_TOSH_wn_pererr\n",
    "\n",
    "#OUTPUT: AU & wn    \n"
   ]
  },
  {
   "cell_type": "markdown",
   "metadata": {},
   "source": [
    "## [9] $\\Delta E^{(VPT2)}$ "
   ]
  },
  {
   "cell_type": "code",
   "execution_count": 7,
   "metadata": {},
   "outputs": [],
   "source": [
    "#INPUT: AU\n",
    "\n",
    "def E_VPT2(omega_au, omega_au_err, eta_iii, eta_iii_err, eta_iiii, eta_iiii_err, sigma, sigma_err):\n",
    "    \n",
    "    #AU\n",
    "    E_VPT2_au = omega_au + (eta_iiii / (8 * omega_au**2)) - ((5 * eta_iii**2) / (24 * omega_au**4)) - ((eta_iiii**2) / (32 * omega_au**4))\n",
    "    #Error\n",
    "    A = omega_au_err * (1 - (eta_iiii / (4 * omega_au**3)) + ((5 * eta_iii**2) / (6 * omega_au**5)) + (eta_iiii**2 / (8*omega_au**5)))\n",
    "    B = eta_iii_err * (-5 * eta_iii / (12 * omega_au**4))\n",
    "    C = eta_iiii_err * ((1/(8 * omega_au**2)) - ((eta_iii) / (16 * omega_au**4)))\n",
    "    E_VPT2_au_err = abs(A + B + C)\n",
    "    E_VPT2_au_relerr = E_VPT2_au_err / E_VPT2_au\n",
    "    E_VPT2_au_pererr = (E_VPT2_au_relerr * 100)\n",
    "    \n",
    "    #SI\n",
    "    E_VPT2_wn = E_VPT2_au * hartree_to_wn\n",
    "    #Error\n",
    "    E_VPT2_wn_err = (E_VPT2_au * hartree_to_wn_err) + (hartree_to_wn * E_VPT2_au_err)\n",
    "    E_VPT2_wn_relerr = E_VPT2_wn_err/E_VPT2_wn\n",
    "    E_VPT2_wn_pererr = abs(E_VPT2_wn_relerr * 100)\n",
    "    \n",
    "    return E_VPT2_au, E_VPT2_au_err, E_VPT2_au_pererr, E_VPT2_wn, E_VPT2_wn_err, E_VPT2_wn_pererr\n",
    "    \n",
    "#OUTPUT: AU & SI"
   ]
  },
  {
   "cell_type": "markdown",
   "metadata": {},
   "source": [
    "## [10] Prometheus Rotational Constant, $B_0$"
   ]
  },
  {
   "cell_type": "code",
   "execution_count": 9,
   "metadata": {},
   "outputs": [],
   "source": [
    "#INPUT: AU\n",
    "\n",
    "def B_0(mu_SI, mu_SI_err, re_au, re_au_err):\n",
    "    \n",
    "    #Bond length for v == 0\n",
    "    r_0_au = re_au \n",
    "    r_0_au_err = (re_au_err)\n",
    "    #SI\n",
    "    r_0_SI = r_0_au * bohr_to_m\n",
    "    r_0_SI_err = (bohr_to_m)*r_0_au_err\n",
    "    \n",
    "    #Rotational Constant v == 0\n",
    "    B_0_wn = h / (8 * (np.pi**2) * c_cm * mu_SI * r_0_SI**2) \n",
    "    A = mu_SI_err * (-h / (8 * np.pi**2 * c_cm * mu_SI**2  * r_0_SI**2))\n",
    "    B = r_0_SI_err * (-h / (8 * np.pi**2 * c_cm * mu_SI  * r_0_SI**3))\n",
    "    B_0_wn_err = abs(A + B)\n",
    "    B_0_wn_relerr = B_0_wn_err / B_0_wn\n",
    "    B_0_wn_pererr = B_0_wn_relerr * 100\n",
    "    \n",
    "    return B_0_wn, B_0_wn_err, B_0_wn_pererr\n",
    "\n",
    "#OUTPUT: wn"
   ]
  },
  {
   "cell_type": "markdown",
   "metadata": {},
   "source": [
    "## [10] Prometheus Rotational Constant, $B_1$ "
   ]
  },
  {
   "cell_type": "code",
   "execution_count": 8,
   "metadata": {},
   "outputs": [],
   "source": [
    "#INPUT: AU\n",
    "\n",
    "def B_1(mu_au, mu_au_err, mu_SI, mu_SI_err, re_au, re_au_err, sigma, sigma_err):\n",
    "    \n",
    "    #Bond length for v == 1\n",
    "    r_1_au = (re_au + (sigma / mu_au**0.5))\n",
    "    #Error\n",
    "    A = re_au_err\n",
    "    B = sigma_err * (1 / mu_au**0.5) \n",
    "    C = mu_au_err * (-sigma / (2 * mu_au**(3/2)))\n",
    "    r_1_au_err = abs(A + B + C)\n",
    "    #SI\n",
    "    r_1_SI = r_1_au * bohr_to_m\n",
    "    r_1_SI_err = (bohr_to_m)*r_1_au_err\n",
    "    \n",
    "    #Rotational Constant v == 1\n",
    "    B_1_wn = h / (8 * (np.pi**2) * c_cm * mu_SI * r_1_SI**2) \n",
    "    A = mu_SI_err * (-h / (8 * np.pi**2 * c_cm * mu_SI**2  * r_1_SI**2))\n",
    "    B = r_1_SI_err * (-h / (8 * np.pi**2 * c_cm * mu_SI  * r_1_SI**3))\n",
    "    B_1_wn_err = abs(A + B)\n",
    "    B_1_wn_relerr = B_1_wn_err / B_1_wn\n",
    "    B_1_wn_pererr = B_1_wn_relerr * 100\n",
    "    \n",
    "    return B_1_wn, B_1_wn_err, B_1_wn_pererr\n",
    "\n",
    "#OUTPUT: wn"
   ]
  },
  {
   "cell_type": "markdown",
   "metadata": {},
   "source": [
    "## [11] Transition: $v_O$ "
   ]
  },
  {
   "cell_type": "code",
   "execution_count": 12,
   "metadata": {},
   "outputs": [],
   "source": [
    "def v_O_transition(J, omega, b0, b1):\n",
    "    v_O = omega + b1*((J**2) + J) - b0*((J**2) + (5*J) + 6)\n",
    "    return v_O"
   ]
  },
  {
   "cell_type": "code",
   "execution_count": 13,
   "metadata": {},
   "outputs": [],
   "source": [
    "def v_O_errors(J, omega_0_err, b0_err, b1_err, v_O):\n",
    "    abs_error = omega_0_err + (J**2 + J)*b1_err + (J**2 + (5*J) + 6)*b0_err\n",
    "    rel_error = abs_error/v_O\n",
    "    per_error = abs(rel_error) * 100\n",
    "    return abs_error, rel_error, per_error"
   ]
  },
  {
   "cell_type": "code",
   "execution_count": 14,
   "metadata": {},
   "outputs": [],
   "source": [
    "def v_O_errors_no_origin(J, b0_err, b1_err, v_O):\n",
    "    abs_error = (J**2 + J)*b1_err + (J**2 + (5*J) + 6)*b0_err\n",
    "    rel_error = abs_error/v_O\n",
    "    per_error = abs(rel_error) * 100\n",
    "    return abs_error, rel_error, per_error"
   ]
  },
  {
   "cell_type": "markdown",
   "metadata": {},
   "source": [
    "## [12] Transition: $v_P$ "
   ]
  },
  {
   "cell_type": "code",
   "execution_count": 15,
   "metadata": {},
   "outputs": [],
   "source": [
    "def v_P_transition(J, omega, b0, b1):\n",
    "    v_P = omega - ((b1 + b0)*(J+1)) + ((b1 - b0)*(J+1)**2)\n",
    "    return v_P"
   ]
  },
  {
   "cell_type": "code",
   "execution_count": 16,
   "metadata": {},
   "outputs": [],
   "source": [
    "def v_P_errors(J, omega_0_err, b0_err, b1_err, v_P):\n",
    "    abs_error = omega_0_err + (-(J+1) + (J+1)**2)*b1_err + (-(J+1)-(J+1)**2)*b0_err\n",
    "    rel_error = abs_error/v_P\n",
    "    per_error = abs(rel_error) * 100\n",
    "    return abs_error, rel_error, per_error"
   ]
  },
  {
   "cell_type": "code",
   "execution_count": 17,
   "metadata": {},
   "outputs": [],
   "source": [
    "def v_P_errors_no_origin(J, b0_err, b1_err, v_P):\n",
    "    abs_error = (-(J+1) + (J+1)**2)*b1_err + (-(J+1)-(J+1)**2)*b0_err\n",
    "    rel_error = abs_error/v_P\n",
    "    per_error = abs(rel_error) * 100\n",
    "    return abs_error, rel_error, per_error"
   ]
  },
  {
   "cell_type": "markdown",
   "metadata": {},
   "source": [
    "## [13] Transition: $v_Q$ "
   ]
  },
  {
   "cell_type": "code",
   "execution_count": 18,
   "metadata": {},
   "outputs": [],
   "source": [
    "def v_Q_transition(J, omega, b0, b1):\n",
    "    v_Q = omega + (J*(J+1)*(b1 - b0))\n",
    "    return v_Q"
   ]
  },
  {
   "cell_type": "code",
   "execution_count": 19,
   "metadata": {},
   "outputs": [],
   "source": [
    "def v_Q_errors(J, omega_0_err, b0_err, b1_err, v_Q):\n",
    "    abs_error = omega_0_err + (J**2 + J)*b1_err + (-J**2 - J)*b0_err\n",
    "    rel_error = abs_error/v_Q\n",
    "    per_error = abs(rel_error) * 100\n",
    "    return abs_error, rel_error, per_error"
   ]
  },
  {
   "cell_type": "code",
   "execution_count": 20,
   "metadata": {},
   "outputs": [],
   "source": [
    "def v_Q_errors_no_origin(J, b0_err, b1_err, v_Q):\n",
    "    abs_error = (J**2 + J)*b1_err + (-J**2 - J)*b0_err\n",
    "    rel_error = abs_error/v_Q\n",
    "    per_error = abs(rel_error) * 100\n",
    "    return abs_error, rel_error, per_error"
   ]
  },
  {
   "cell_type": "markdown",
   "metadata": {},
   "source": [
    "## [14] Transition: $v_R$ "
   ]
  },
  {
   "cell_type": "code",
   "execution_count": 21,
   "metadata": {},
   "outputs": [],
   "source": [
    "def v_R_transition(J, omega, b0, b1):\n",
    "    v_R = omega + ((b1 + b0)*(J+1)) + ((b1 - b0)*(J+1)**2)\n",
    "    return v_R"
   ]
  },
  {
   "cell_type": "code",
   "execution_count": 22,
   "metadata": {},
   "outputs": [],
   "source": [
    "def v_R_errors(J, omega_0_err, b0_err, b1_err, v_R):\n",
    "    abs_error = omega_0_err + ((J+1) + (J+1)**2)*b1_err + ((J+1)-(J+1)**2)*b0_err\n",
    "    rel_error = abs_error/v_R\n",
    "    per_error = abs(rel_error) * 100\n",
    "    return abs_error, rel_error, per_error"
   ]
  },
  {
   "cell_type": "code",
   "execution_count": 23,
   "metadata": {},
   "outputs": [],
   "source": [
    "def v_R_errors_no_origin(J, b0_err, b1_err, v_R):\n",
    "    abs_error = ((J+1) + (J+1)**2)*b1_err + ((J+1)-(J+1)**2)*b0_err\n",
    "    rel_error = abs_error/v_R\n",
    "    per_error = abs(rel_error) * 100\n",
    "    return abs_error, rel_error, per_error"
   ]
  },
  {
   "cell_type": "markdown",
   "metadata": {},
   "source": [
    "## [15] Transition: $v_S$ "
   ]
  },
  {
   "cell_type": "code",
   "execution_count": 24,
   "metadata": {},
   "outputs": [],
   "source": [
    "def v_S_transition(J, omega, b0, b1):\n",
    "    v_S = omega + b1*((J**2) + (5*J) + 6) - b0*((J**2) + J)\n",
    "    return v_S"
   ]
  },
  {
   "cell_type": "code",
   "execution_count": 25,
   "metadata": {},
   "outputs": [],
   "source": [
    "def v_S_errors(J, omega_0_err, b0_err, b1_err, v_S):\n",
    "    abs_error = omega_0_err - (J**2 + J)*b0_err + (J**2 + (5*J) + 6)*b1_err\n",
    "    rel_error = abs_error/v_S\n",
    "    per_error = abs(rel_error) * 100\n",
    "    return abs_error, rel_error, per_error"
   ]
  },
  {
   "cell_type": "code",
   "execution_count": 26,
   "metadata": {},
   "outputs": [],
   "source": [
    "def v_S_errors_no_origin(J, b0_err, b1_err, v_S):\n",
    "    abs_error = - (J**2 + J)*b0_err + (J**2 + (5*J) + 6)*b1_err\n",
    "    rel_error = abs_error/v_S\n",
    "    per_error = abs(rel_error) * 100\n",
    "    return abs_error, rel_error, per_error"
   ]
  }
 ],
 "metadata": {
  "kernelspec": {
   "display_name": "Python 3",
   "language": "python",
   "name": "python3"
  },
  "language_info": {
   "codemirror_mode": {
    "name": "ipython",
    "version": 3
   },
   "file_extension": ".py",
   "mimetype": "text/x-python",
   "name": "python",
   "nbconvert_exporter": "python",
   "pygments_lexer": "ipython3",
   "version": "3.8.3"
  }
 },
 "nbformat": 4,
 "nbformat_minor": 4
}
